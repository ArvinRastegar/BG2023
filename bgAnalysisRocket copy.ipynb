{
 "cells": [
  {
   "cell_type": "code",
   "execution_count": 1,
   "metadata": {},
   "outputs": [],
   "source": [
    "import pandas as pd \n",
    "import numpy as np \n",
    "from matplotlib import pyplot as plt\n",
    "from sklearn.linear_model import RidgeClassifierCV\n",
    "from sklearn.preprocessing import LabelEncoder\n",
    "from sklearn.model_selection import train_test_split\n",
    "from sklearn.metrics import f1_score\n",
    "\n",
    "import itertools\n",
    "\n",
    "#Import Random Forest Model\n",
    "from sklearn.ensemble import RandomForestClassifier\n",
    "\n",
    "#Import MLPClassifier\n",
    "from sklearn.neural_network import MLPClassifier\n",
    "\n",
    "#Import scikit-learn metrics module for accuracy calculation\n",
    "from sklearn import metrics\n",
    "from sklearn.metrics import classification_report\n",
    "from sklearn.metrics import confusion_matrix\n",
    "from sklearn import tree\n",
    "\n",
    "# for replacing the missing values with the mean\n",
    "from sklearn.impute import SimpleImputer\n",
    "\n",
    "\n",
    "import matplotlib.pyplot as plt\n",
    "from sklearn.neural_network import MLPClassifier\n",
    "\n",
    "from sklearn.pipeline import make_pipeline\n",
    "from sklearn.utils.extmath import softmax\n",
    "\n",
    "# from rocket.code.rocket_functions import generate_kernels, apply_kernels\n",
    "\n",
    "from sktime.classification.kernel_based import RocketClassifier"
   ]
  },
  {
   "cell_type": "code",
   "execution_count": 3,
   "metadata": {},
   "outputs": [],
   "source": [
    "# x = pd.read_csv('BG2023_train.csv')\n",
    "# y = x.pop(\"Malware\").to_numpy()\n",
    "# x = x.to_numpy()\n",
    "\n",
    "# df_validation = pd.read_csv('BG2023_validation.csv')\n",
    "\n",
    "# df_validation = df_validation.to_numpy()\n"
   ]
  },
  {
   "cell_type": "code",
   "execution_count": 2,
   "metadata": {},
   "outputs": [],
   "source": [
    "x = pd.read_csv('BG2023_train.csv')\n",
    "y = x.pop(\"Malware\")\n",
    "\n",
    "df_validation = pd.read_csv('BG2023_validation.csv')\n",
    "# pre-proccessing \n",
    "imp = SimpleImputer(missing_values=np.nan, strategy='median')\n",
    "imp = imp.fit(x)\n",
    "x = imp.transform(x)\n",
    "imp = imp.fit(df_validation)\n",
    "df_validation = imp.transform(df_validation)"
   ]
  },
  {
   "cell_type": "code",
   "execution_count": 3,
   "metadata": {},
   "outputs": [
    {
     "ename": "NameError",
     "evalue": "name 'x_train' is not defined",
     "output_type": "error",
     "traceback": [
      "\u001b[0;31m---------------------------------------------------------------------------\u001b[0m",
      "\u001b[0;31mNameError\u001b[0m                                 Traceback (most recent call last)",
      "\u001b[0;32m/var/folders/4z/zgb9sppj6gj5hpm65f1c_4v40000gn/T/ipykernel_2630/2512218947.py\u001b[0m in \u001b[0;36m<module>\u001b[0;34m\u001b[0m\n\u001b[0;32m----> 1\u001b[0;31m \u001b[0mx_train\u001b[0m\u001b[0;34m.\u001b[0m\u001b[0mshape\u001b[0m\u001b[0;34m\u001b[0m\u001b[0;34m\u001b[0m\u001b[0m\n\u001b[0m",
      "\u001b[0;31mNameError\u001b[0m: name 'x_train' is not defined"
     ]
    }
   ],
   "source": [
    "# x_train.shape"
   ]
  },
  {
   "cell_type": "code",
   "execution_count": 10,
   "metadata": {},
   "outputs": [],
   "source": [
    "# classes = np.unique(y)  # all class labels\n",
    "# total_examples, ts_length = x.shape\n",
    "# x_train, x_test, y_train, y_test = train_test_split(x, y, test_size=.3, random_state=123,\n",
    "#                                                             shuffle=False, stratify=None)\n",
    "\n",
    "# kernel_size = int(10000)\n",
    "# kernels = generate_kernels(x_train.shape[-1], kernel_size)\n",
    "# x_training_transform = apply_kernels(x_train, kernels)\n",
    "# ## for real data\n",
    "# le = LabelEncoder()\n",
    "# le.fit(y_train)\n",
    "# y_train = le.transform(y_train)\n",
    "# le.fit(y_test)\n",
    "# y_test = le.transform(y_test)\n",
    "# ##\n",
    "# classifierRocket = RidgeClassifierCV(alphas=np.logspace(-3, 3, 10), normalize=True)\n",
    "# classifierRocket.fit(x_training_transform, y_train)\n",
    "# x_test_transform = apply_kernels(x_test, kernels)\n",
    "# predictions = classifierRocket.predict(x_test_transform)\n",
    "# acc = classifierRocket.score(x_test_transform, y_test)\n",
    "# print(acc)"
   ]
  },
  {
   "cell_type": "code",
   "execution_count": 5,
   "metadata": {},
   "outputs": [
    {
     "name": "stdout",
     "output_type": "stream",
     "text": [
      "0.8686012389957614\n"
     ]
    }
   ],
   "source": [
    "x_train, x_test, y_train, y_test = train_test_split(x, y, test_size=.3, random_state=123,\n",
    "                                                            shuffle=True, stratify=None)\n",
    "rocket = RocketClassifier()\n",
    "rocket.fit(x_train, y_train)\n",
    "y_pred = rocket.predict(x_test)\n",
    "f1 = f1_score(y_test, y_pred)\n",
    "print(f1)"
   ]
  },
  {
   "cell_type": "code",
   "execution_count": 6,
   "metadata": {},
   "outputs": [],
   "source": [
    "rocket.fit(x,y)\n",
    "# y_pred_RF = clf_RF.predict(x_test)\n",
    "# f1 = f1_score(y_test, y_pred_RF)\n",
    "# print(f1)\n",
    "subm = rocket.predict(df_validation)\n",
    "np.savetxt(\"submissionsRocket1.txt\", subm.astype(int))"
   ]
  },
  {
   "cell_type": "code",
   "execution_count": null,
   "metadata": {},
   "outputs": [],
   "source": []
  }
 ],
 "metadata": {
  "kernelspec": {
   "display_name": "thesis",
   "language": "python",
   "name": "python3"
  },
  "language_info": {
   "codemirror_mode": {
    "name": "ipython",
    "version": 3
   },
   "file_extension": ".py",
   "mimetype": "text/x-python",
   "name": "python",
   "nbconvert_exporter": "python",
   "pygments_lexer": "ipython3",
   "version": "3.7.15"
  },
  "orig_nbformat": 4
 },
 "nbformat": 4,
 "nbformat_minor": 2
}
